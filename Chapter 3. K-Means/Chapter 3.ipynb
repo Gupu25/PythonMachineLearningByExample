{
 "cells": [
  {
   "cell_type": "markdown",
   "metadata": {},
   "source": [
    "# Chapter 3: Mining the 20 Newsgroups Dataset with Clustering and Topic Modeling Algorithms"
   ]
  },
  {
   "cell_type": "markdown",
   "metadata": {},
   "source": [
    "## K-means, from scratch"
   ]
  },
  {
   "cell_type": "code",
   "execution_count": 1,
   "metadata": {},
   "outputs": [],
   "source": [
    "from sklearn import datasets\n",
    "iris = datasets.load_iris()"
   ]
  },
  {
   "cell_type": "markdown",
   "metadata": {},
   "source": [
    "The IRIS dataset contains three classes, for three different iris colors.\n",
    "We plot them in a scatter plot."
   ]
  },
  {
   "cell_type": "code",
   "execution_count": 2,
   "metadata": {},
   "outputs": [
    {
     "data": {
      "text/plain": [
       "<matplotlib.collections.PathCollection at 0x20b240fe080>"
      ]
     },
     "execution_count": 2,
     "metadata": {},
     "output_type": "execute_result"
    }
   ],
   "source": [
    "X = iris.data[:,2:4]\n",
    "y = iris.target\n",
    "import numpy as np\n",
    "from matplotlib import pyplot as plt\n",
    "y_0 = np.where(y==0)\n",
    "plt.scatter(X[y_0,0],X[y_0,1])\n",
    "y_1 = np.where(y==1)\n",
    "plt.scatter(X[y_1,0],X[y_1,1])\n",
    "y_2 = np.where(y==2)\n",
    "plt.scatter(X[y_2,0],X[y_2,1])"
   ]
  },
  {
   "cell_type": "markdown",
   "metadata": {},
   "source": [
    "If we didn't know the classes, we could try to group them by 2 or 3 clusters.\n",
    "FIrst we set k, the number of clusters. Then we initialize their centroids to a random point in the dataset."
   ]
  },
  {
   "cell_type": "code",
   "execution_count": 3,
   "metadata": {},
   "outputs": [],
   "source": [
    "k = 3\n",
    "random_index = np.random.choice(range(len(X)),k)\n",
    "centroids = X[random_index]"
   ]
  },
  {
   "cell_type": "code",
   "execution_count": 4,
   "metadata": {},
   "outputs": [
    {
     "data": {
      "image/png": "[encoded data removed]",
      "text/plain": [
       "<Figure size 432x288 with 1 Axes>"
      ]
     },
     "metadata": {},
     "output_type": "display_data"
    }
   ],
   "source": [
    "def visualize_centroids(X,centroids):\n",
    "    plt.scatter(X[:,0],X[:,1])\n",
    "    plt.scatter(centroids[:,0],centroids[:,1],marker='*',s=200,c='#050505')\n",
    "    plt.show()\n",
    "visualize_centroids(X,centroids)"
   ]
  },
  {
   "cell_type": "code",
   "execution_count": 5,
   "metadata": {},
   "outputs": [],
   "source": [
    "def dist(a,b):\n",
    "    return np.linalg.norm(a-b,axis=1)\n",
    "def assign_cluster(x,centroids):\n",
    "    distances = dist(x, centroids)\n",
    "    cluster = np.argmin(distances)\n",
    "    return cluster\n",
    "def update_centroids(X, centroids, clusters):\n",
    "    for i in range(k):\n",
    "        cluster_i = np.where(clusters==i)\n",
    "        centroids[i] = np.mean(X[cluster_i],axis=0)"
   ]
  },
  {
   "cell_type": "code",
   "execution_count": 6,
   "metadata": {},
   "outputs": [
    {
     "data": {
      "image/png": "[encoded data removed]",
      "text/plain": [
       "<Figure size 432x288 with 1 Axes>"
      ]
     },
     "metadata": {},
     "output_type": "display_data"
    }
   ],
   "source": [
    "k = 3\n",
    "random_index = np.random.choice(range(len(X)),k)\n",
    "centroids = X[random_index]\n",
    "\n",
    "tol = 0.0001\n",
    "max_iter = 100\n",
    "\n",
    "iter = 0\n",
    "centroids_diff = 100000\n",
    "clusters = np.zeros(len(X))\n",
    "\n",
    "from copy import deepcopy\n",
    "while iter < max_iter and centroids_diff > tol:\n",
    "    for i in range(len(X)):\n",
    "        clusters[i] = assign_cluster(X[i],centroids)\n",
    "    centroids_prev = deepcopy(centroids)\n",
    "    update_centroids(X,centroids,clusters)\n",
    "    iter += 1\n",
    "    centroids_diff = np.linalg.norm(centroids - centroids_prev)\n",
    "        ##print('Iteration: ',str(iter))\n",
    "        ##print('Centroids: ',centroids)\n",
    "        ##print('Centroids move: {:5.4f}'.format(centroids_diff))\n",
    "visualize_centroids(X, centroids)"
   ]
  },
  {
   "cell_type": "code",
   "execution_count": 7,
   "metadata": {},
   "outputs": [
    {
     "data": {
      "image/png": "[encoded data removed]",
      "text/plain": [
       "<Figure size 432x288 with 1 Axes>"
      ]
     },
     "metadata": {},
     "output_type": "display_data"
    }
   ],
   "source": [
    "for i in range(k):\n",
    "    cluster_i = np.where(clusters == i)\n",
    "    plt.scatter(X[cluster_i,0],X[cluster_i,1])\n",
    "plt.scatter(centroids[:,0],centroids[:,1],marker='*',s=200,c='#050505')\n",
    "plt.show()"
   ]
  },
  {
   "cell_type": "markdown",
   "metadata": {},
   "source": [
    "## Implementing k-means with scikit-learn"
   ]
  },
  {
   "cell_type": "code",
   "execution_count": 8,
   "metadata": {},
   "outputs": [],
   "source": [
    "from sklearn.cluster import KMeans"
   ]
  },
  {
   "cell_type": "code",
   "execution_count": 9,
   "metadata": {},
   "outputs": [],
   "source": [
    "k = 4\n",
    "kmeans_sk = KMeans(n_clusters = k, random_state = 42)"
   ]
  },
  {
   "cell_type": "code",
   "execution_count": 10,
   "metadata": {},
   "outputs": [
    {
     "data": {
      "text/plain": [
       "KMeans(algorithm='auto', copy_x=True, init='k-means++', max_iter=300,\n",
       "    n_clusters=4, n_init=10, n_jobs=1, precompute_distances='auto',\n",
       "    random_state=42, tol=0.0001, verbose=0)"
      ]
     },
     "execution_count": 10,
     "metadata": {},
     "output_type": "execute_result"
    }
   ],
   "source": [
    "kmeans_sk.fit(X)"
   ]
  },
  {
   "cell_type": "code",
   "execution_count": 11,
   "metadata": {},
   "outputs": [],
   "source": [
    "clusters_sk = kmeans_sk.labels_\n",
    "centroids_sk = kmeans_sk.cluster_centers_"
   ]
  },
  {
   "cell_type": "code",
   "execution_count": 12,
   "metadata": {},
   "outputs": [
    {
     "data": {
      "image/png": "[encoded data removed]",
      "text/plain": [
       "<Figure size 432x288 with 1 Axes>"
      ]
     },
     "metadata": {},
     "output_type": "display_data"
    }
   ],
   "source": [
    "for i in range(k):\n",
    "    cluster_i = np.where(clusters_sk == i)\n",
    "    plt.scatter(X[cluster_i,0],X[cluster_i,1])\n",
    "plt.scatter(centroids_sk[:,0],centroids_sk[:,1],marker='*',s=200,c='#050505')\n",
    "plt.show()"
   ]
  },
  {
   "cell_type": "markdown",
   "metadata": {},
   "source": [
    "## Choosing the value of k"
   ]
  },
  {
   "cell_type": "code",
   "execution_count": 13,
   "metadata": {},
   "outputs": [],
   "source": [
    "iris = datasets.load_iris()\n",
    "X = iris.data\n",
    "y = iris.target\n",
    "k_list = list(range(1,7))\n",
    "sse_list = [0]*len(k_list)"
   ]
  },
  {
   "cell_type": "code",
   "execution_count": 14,
   "metadata": {},
   "outputs": [
    {
     "name": "stdout",
     "output_type": "stream",
     "text": [
      "k=1, SSE=26.09261198117199\n",
      "k=2, SSE=16.47171547133808\n",
      "k=3, SSE=15.100944032266097\n",
      "k=4, SSE=15.042199113318638\n",
      "k=5, SSE=14.870397691633272\n",
      "k=6, SSE=14.86047795395208\n"
     ]
    }
   ],
   "source": [
    "for k_ind,k in enumerate(k_list):\n",
    "    kmeans = KMeans(n_clusters=k,random_state=42)\n",
    "    kmeans.fit(X)\n",
    "    clusters = kmeans.labels_\n",
    "    centroids = kmeans.cluster_centers_\n",
    "    sse = 0\n",
    "    for i in range(k):\n",
    "        cluster_i = np.where(clusters == i)\n",
    "        sse += np.linalg.norm(X[cluster_i]-centroids[i])\n",
    "    print('k={}, SSE={}'.format(k,sse))\n",
    "    sse_list[k_ind] = sse"
   ]
  },
  {
   "cell_type": "code",
   "execution_count": 15,
   "metadata": {},
   "outputs": [
    {
     "data": {
      "image/png": "[encoded data removed]",
      "text/plain": [
       "<Figure size 432x288 with 1 Axes>"
      ]
     },
     "metadata": {},
     "output_type": "display_data"
    }
   ],
   "source": [
    "plt.plot(k_list,sse_list)\n",
    "plt.show()"
   ]
  },
  {
   "cell_type": "markdown",
   "metadata": {},
   "source": [
    "## Clustering newsgroups data using k-means"
   ]
  },
  {
   "cell_type": "code",
   "execution_count": 16,
   "metadata": {},
   "outputs": [],
   "source": [
    "from sklearn.datasets import fetch_20newsgroups\n",
    "categories = [\n",
    "    'alt.atheism',\n",
    "    'talk.religion.misc',\n",
    "    'comp.graphics',\n",
    "    'sci.space',\n",
    "]\n",
    "groups = fetch_20newsgroups(subset='all',categories=categories)\n",
    "labels = groups.target\n",
    "label_names = groups.target_names\n",
    "def is_letter_only(word):\n",
    "    for char in word:\n",
    "        if not char.isalpha():\n",
    "            return False\n",
    "        return True\n",
    "from nltk.corpus import names\n",
    "all_names = set(names.words())\n",
    "from nltk.stem import WordNetLemmatizer\n",
    "lemmatizer = WordNetLemmatizer()\n",
    "data_cleaned = []\n",
    "for doc in groups.data:\n",
    "    doc = doc.lower()\n",
    "    doc_cleaned = ' '.join(lemmatizer.lemmatize(word)\n",
    "                          for word in doc.split() if is_letter_only(word)\n",
    "                          and word not in all_names)\n",
    "    data_cleaned.append(doc_cleaned)"
   ]
  },
  {
   "cell_type": "code",
   "execution_count": 17,
   "metadata": {},
   "outputs": [],
   "source": [
    "from sklearn.feature_extraction.text import CountVectorizer\n",
    "count_vector = CountVectorizer(stop_words = \"english\",\n",
    "                              max_features = None,\n",
    "                              max_df = 0.5,\n",
    "                              min_df = 2)\n",
    "data = count_vector.fit_transform(data_cleaned)"
   ]
  },
  {
   "cell_type": "code",
   "execution_count": 18,
   "metadata": {},
   "outputs": [
    {
     "data": {
      "text/plain": [
       "KMeans(algorithm='auto', copy_x=True, init='k-means++', max_iter=300,\n",
       "    n_clusters=4, n_init=10, n_jobs=1, precompute_distances='auto',\n",
       "    random_state=42, tol=0.0001, verbose=0)"
      ]
     },
     "execution_count": 18,
     "metadata": {},
     "output_type": "execute_result"
    }
   ],
   "source": [
    "from sklearn.cluster import KMeans\n",
    "k = 4\n",
    "kmeans = KMeans(n_clusters = k, random_state = 42)\n",
    "kmeans.fit(data)"
   ]
  },
  {
   "cell_type": "code",
   "execution_count": 19,
   "metadata": {},
   "outputs": [
    {
     "name": "stdout",
     "output_type": "stream",
     "text": [
      "Counter({0: 3365, 3: 12, 2: 7, 1: 3})\n"
     ]
    }
   ],
   "source": [
    "clusters = kmeans.labels_\n",
    "from collections import Counter\n",
    "print(Counter(clusters))"
   ]
  },
  {
   "cell_type": "code",
   "execution_count": 20,
   "metadata": {},
   "outputs": [
    {
     "name": "stdout",
     "output_type": "stream",
     "text": [
      "Counter({3: 1577, 1: 1029, 2: 720, 0: 61})\n"
     ]
    }
   ],
   "source": [
    "from sklearn.feature_extraction.text import TfidfVectorizer\n",
    "tfidf_vector = TfidfVectorizer(stop_words='english',\n",
    "                              max_features=None,\n",
    "                              max_df=0.5,\n",
    "                              min_df=2)\n",
    "data = tfidf_vector.fit_transform(data_cleaned)\n",
    "kmeans.fit(data)\n",
    "clusters = kmeans.labels_\n",
    "print(Counter(clusters))"
   ]
  },
  {
   "cell_type": "code",
   "execution_count": 21,
   "metadata": {},
   "outputs": [
    {
     "name": "stdout",
     "output_type": "stream",
     "text": [
      "cluster_0: 61 samples\n",
      "sci.space: 61 samples\n",
      "Top 10 terms:\n",
      " dunn resembles svr3 work utzoo zoo spencer zoology toronto henry\n",
      "cluster_1: 1029 samples\n",
      "alt.atheism: 640 samples\n",
      "talk.religion.misc: 381 samples\n",
      "sci.space: 5 samples\n",
      "comp.graphics: 3 samples\n",
      "Top 10 terms:\n",
      " morality don jesus sandvik say christian people com wa god\n",
      "cluster_2: 720 samples\n",
      "sci.space: 700 samples\n",
      "comp.graphics: 10 samples\n",
      "talk.religion.misc: 7 samples\n",
      "alt.atheism: 3 samples\n",
      "Top 10 terms:\n",
      " launch moon alaska shuttle gov digex wa access nasa space\n",
      "cluster_3: 1577 samples\n",
      "comp.graphics: 960 samples\n",
      "talk.religion.misc: 240 samples\n",
      "sci.space: 221 samples\n",
      "alt.atheism: 156 samples\n",
      "Top 10 terms:\n",
      " thanks know nntp host posting graphic file com image university\n"
     ]
    }
   ],
   "source": [
    "cluster_label = {i: labels[np.where(clusters == i)] for i in range(k)}\n",
    "terms = tfidf_vector.get_feature_names()\n",
    "centroids = kmeans.cluster_centers_\n",
    "for cluster, index_list in cluster_label.items():\n",
    "    counter = Counter(cluster_label[cluster])\n",
    "    print('cluster_{}: {} samples'.format(cluster, len(index_list)))\n",
    "    for label_index, count in sorted(counter.items(),\n",
    "        key=lambda x: x[1], reverse=True):\n",
    "        print('{}: {} samples'.format(label_names[label_index], count))\n",
    "    print('Top 10 terms:')\n",
    "    for ind in centroids[cluster].argsort()[-10:]:\n",
    "        print(' %s' % terms[ind], end=\"\")\n",
    "    print()"
   ]
  },
  {
   "cell_type": "markdown",
   "metadata": {},
   "source": [
    "## Discovering underlying topics"
   ]
  },
  {
   "cell_type": "code",
   "execution_count": 22,
   "metadata": {},
   "outputs": [],
   "source": [
    "from sklearn.decomposition import NMF\n",
    "t = 20\n",
    "nmf = NMF(n_components=t, random_state=42)\n",
    "data = count_vector.fit_transform(data_cleaned)"
   ]
  },
  {
   "cell_type": "code",
   "execution_count": 23,
   "metadata": {},
   "outputs": [
    {
     "data": {
      "text/plain": [
       "NMF(alpha=0.0, beta_loss='frobenius', init=None, l1_ratio=0.0, max_iter=200,\n",
       "  n_components=20, random_state=42, shuffle=False, solver='cd', tol=0.0001,\n",
       "  verbose=0)"
      ]
     },
     "execution_count": 23,
     "metadata": {},
     "output_type": "execute_result"
    }
   ],
   "source": [
    "nmf.fit(data)"
   ]
  },
  {
   "cell_type": "code",
   "execution_count": 24,
   "metadata": {},
   "outputs": [
    {
     "data": {
      "text/plain": [
       "array([[0.05199448, 0.        , 0.00016396, ..., 0.        , 0.        ,\n",
       "        0.00066426],\n",
       "       [0.00028246, 0.        , 0.00103722, ..., 0.        , 0.00046909,\n",
       "        0.00136239],\n",
       "       [0.        , 0.        , 0.00016499, ..., 0.        , 0.        ,\n",
       "        0.        ],\n",
       "       ...,\n",
       "       [0.00315889, 0.        , 0.01103702, ..., 0.00100776, 0.00735967,\n",
       "        0.00162324],\n",
       "       [0.        , 0.        , 0.00024811, ..., 0.        , 0.        ,\n",
       "        0.        ],\n",
       "       [0.        , 0.        , 0.00456599, ..., 0.        , 0.00022907,\n",
       "        0.        ]])"
      ]
     },
     "execution_count": 24,
     "metadata": {},
     "output_type": "execute_result"
    }
   ],
   "source": [
    "nmf.components_"
   ]
  },
  {
   "cell_type": "code",
   "execution_count": 25,
   "metadata": {},
   "outputs": [
    {
     "name": "stdout",
     "output_type": "stream",
     "text": [
      "Topis 0:\n",
      "free program quality version format color gif file image jpeg\n",
      "Topis 1:\n",
      "graphics image server ftp pub file send graphic ray mail\n",
      "Topis 2:\n",
      "doe christian people believe belief religious religion atheism god atheist\n",
      "Topis 3:\n",
      "wa venus atmosphere sun surface moon solar spacecraft earth planet\n",
      "Topis 4:\n",
      "program include ha user software analysis processing data tool image\n",
      "Topis 5:\n",
      "shall wa said son unto christ mcconkie father lord god\n",
      "Topis 6:\n",
      "data venture service year ha market commercial space satellite launch\n",
      "Topis 7:\n",
      "day christian psalm people said prophecy ha wa matthew jesus\n",
      "Topis 8:\n",
      "program software format ha sgi package ftp available image data\n",
      "Topis 9:\n",
      "unified space motion book star physicist physical universe theory larson\n",
      "Topis 10:\n",
      "research sci group international national telescope satellite shuttle list space\n",
      "Topis 11:\n",
      "jpl available mission astronaut shuttle center data gov space nasa\n",
      "Topis 12:\n",
      "year magi new zarathushtra war book did time people wa\n",
      "Topis 13:\n",
      "form ha false ad premise true example conclusion fallacy argument\n",
      "Topis 14:\n",
      "isbn information file data siggraph format graphics image ftp available\n",
      "Topis 15:\n",
      "say db greek reply mr hanging act wa matthew juda\n",
      "Topis 16:\n",
      "veronica server data ftp information software database client search gopher\n",
      "Topis 17:\n",
      "moral make know com like say just people think don\n",
      "Topis 18:\n",
      "know believe doe christian christ child jesus bible ra god\n",
      "Topis 19:\n",
      "kilometer earth planet surface space soviet mission venus probe wa\n"
     ]
    }
   ],
   "source": [
    "terms = count_vector.get_feature_names()\n",
    "for topic_idx,topic in enumerate(nmf.components_):\n",
    "    print(\"Topis {}:\".format(topic_idx))\n",
    "    print(\" \".join([terms[i] for i in topic.argsort()[-10:]]))"
   ]
  },
  {
   "cell_type": "markdown",
   "metadata": {},
   "source": [
    "## Topic modeling using LDA "
   ]
  },
  {
   "cell_type": "code",
   "execution_count": 26,
   "metadata": {},
   "outputs": [],
   "source": [
    "from sklearn.decomposition import LatentDirichletAllocation\n",
    "t=20\n",
    "lda = LatentDirichletAllocation(n_components=t,\n",
    "                               learning_method='batch',\n",
    "                               random_state=42)"
   ]
  },
  {
   "cell_type": "code",
   "execution_count": 27,
   "metadata": {},
   "outputs": [
    {
     "data": {
      "text/plain": [
       "LatentDirichletAllocation(batch_size=128, doc_topic_prior=None,\n",
       "             evaluate_every=-1, learning_decay=0.7,\n",
       "             learning_method='batch', learning_offset=10.0,\n",
       "             max_doc_update_iter=100, max_iter=10, mean_change_tol=0.001,\n",
       "             n_components=20, n_jobs=1, n_topics=None, perp_tol=0.1,\n",
       "             random_state=42, topic_word_prior=None,\n",
       "             total_samples=1000000.0, verbose=0)"
      ]
     },
     "execution_count": 27,
     "metadata": {},
     "output_type": "execute_result"
    }
   ],
   "source": [
    "data=count_vector.fit_transform(data_cleaned)\n",
    "lda.fit(data)"
   ]
  },
  {
   "cell_type": "code",
   "execution_count": 28,
   "metadata": {},
   "outputs": [
    {
     "data": {
      "text/plain": [
       "array([[2.78477238, 0.05      , 0.05      , ..., 0.05      , 0.05      ,\n",
       "        0.05      ],\n",
       "       [0.05      , 0.05      , 1.24460302, ..., 0.05      , 0.05      ,\n",
       "        0.05      ],\n",
       "       [0.05      , 0.05      , 0.3395871 , ..., 0.05      , 0.05      ,\n",
       "        0.05      ],\n",
       "       ...,\n",
       "       [0.05000002, 0.05      , 0.05      , ..., 0.05      , 0.05      ,\n",
       "        0.05      ],\n",
       "       [0.05      , 0.05      , 0.05      , ..., 0.05      , 0.05      ,\n",
       "        0.05      ],\n",
       "       [0.05      , 0.05      , 1.02314724, ..., 0.05      , 0.05      ,\n",
       "        0.05      ]])"
      ]
     },
     "execution_count": 28,
     "metadata": {},
     "output_type": "execute_result"
    }
   ],
   "source": [
    "lda.components_"
   ]
  },
  {
   "cell_type": "code",
   "execution_count": 29,
   "metadata": {},
   "outputs": [
    {
     "name": "stdout",
     "output_type": "stream",
     "text": [
      "Topic 0:\n",
      "say uk know ha life matthew just brian wa jesus\n",
      "Topic 1:\n",
      "oort nntp host distribution search know posting just gopher gamma\n",
      "Topic 2:\n",
      "conference nntp posting cost host year space wa digex access\n",
      "Topic 3:\n",
      "graphic software available ftp data program format jpeg file image\n",
      "Topic 4:\n",
      "computer help looking graphic know thanks posting university nntp host\n",
      "Topic 5:\n",
      "point host nntp posting solntze wpd livesey sgi com wa\n",
      "Topic 6:\n",
      "atheist doe morality moral religion think don god say people\n",
      "Topic 7:\n",
      "host know lis posting wa space university uiuc god cobb\n",
      "Topic 8:\n",
      "science send national cs center mail sci gov nasa space\n",
      "Topic 9:\n",
      "time people think like keith caltech just wa don com\n",
      "Topic 10:\n",
      "book ray star god wa energy physical larson universe theory\n",
      "Topic 11:\n",
      "don say jesus ha people know christian bible wa god\n",
      "Topic 12:\n",
      "wa ha zoology zoo satellite space spencer launch toronto henry\n",
      "Topic 13:\n",
      "rushdie shall ha christ people lord jesus law god wa\n",
      "Topic 14:\n",
      "know host nntp people posting just don okcforum polygon wa\n",
      "Topic 15:\n",
      "wa ca uci kelvin gif jsc baalke jpl gov nasa\n",
      "Topic 16:\n",
      "wa net activity private kent wrote newton apple sandvik com\n",
      "Topic 17:\n",
      "time posting moon just station nasa com wa alaska space\n",
      "Topic 18:\n",
      "nntp host timmons thing cacs fraering pgf usl com like\n",
      "Topic 19:\n",
      "hst solar nasa planet moon wa space earth mission orbit\n"
     ]
    }
   ],
   "source": [
    "terms = count_vector.get_feature_names()\n",
    "for topic_idx, topic in enumerate(lda.components_):\n",
    "    print(\"Topic {}:\".format(topic_idx))\n",
    "    print(\" \".join(terms[i] for i in\n",
    "                  topic.argsort()[-10:]))"
   ]
  },
  {
   "cell_type": "code",
   "execution_count": null,
   "metadata": {},
   "outputs": [],
   "source": []
  }
 ],
 "metadata": {
  "kernelspec": {
   "display_name": "Python 3",
   "language": "python",
   "name": "python3"
  },
  "language_info": {
   "codemirror_mode": {
    "name": "ipython",
    "version": 3
   },
   "file_extension": ".py",
   "mimetype": "text/x-python",
   "name": "python",
   "nbconvert_exporter": "python",
   "pygments_lexer": "ipython3",
   "version": "3.6.5"
  }
 },
 "nbformat": 4,
 "nbformat_minor": 2
}
